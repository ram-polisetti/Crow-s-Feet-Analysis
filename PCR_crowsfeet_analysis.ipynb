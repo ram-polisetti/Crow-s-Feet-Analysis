{
 "cells": [
  {
   "cell_type": "markdown",
   "metadata": {},
   "source": [
    "# Crow's Feet Analysis\n"
   ]
  },
  {
   "cell_type": "markdown",
   "metadata": {},
   "source": [
    "## Introduction\n",
    "### Background on Crow's Feet Wrinkles\n",
    "Crow's feet, often referred to as laugh lines, are small wrinkles that emerge at the outer corners of the eyes. They are among the first signs of aging to appear on the face, primarily resulting from the loss of collagen and elasticity in the skin. Various factors contribute to the development and deepening of crow's feet, including but not limited to, repeated facial expressions (like smiling or squinting), sun exposure, smoking, and dehydration. These wrinkles can range from fine lines to more pronounced creases, depending on numerous individual factors, including genetics and lifestyle choices.\n",
    "\n",
    "### Objective of the Study\n",
    "The primary objective of this study is to assess the reduction in crow's feet severity over a 28-day period across a cohort of subjects and to explore potential correlations between the extent of reduction and demographic factors such as sex and race. The study will also aim to identify any potential differences in the reduction of crow's feet severity across different demographic groups."
   ]
  },
  {
   "cell_type": "markdown",
   "metadata": {},
   "source": [
    "## Methodology\n",
    "### Data Description\n",
    "The data is divided into two parts:\n",
    "1. **Crow's Feet Depth Data:** Measurements of crow's feet depth for 32 subjects at three different times (Day 0, Day 14, Day 28).\n",
    "    - Subject Number:\n",
    "      - Serves as a unique identifier for each participant in the study.\n",
    "    - Day 0, Day 14, Day 28 (Severity Scores):\n",
    "      - Represents the crow's feet severity score for each subject at three timepoints.\n",
    "        - Day 0: Baseline measurement before any treatment or intervention.\n",
    "        - Day 14: Intermediate measurement to track progress midway through the study period.\n",
    "        - Day 28: Final measurement to assess the overall change in severity after 28 days.\n",
    "\n",
    "1. **Demographic Data:** Information on the sex and race of the subjects.\n",
    "    - Sex:\n",
    "      - Indicates the biological sex of each participant.\n",
    "    - Race: \n",
    "      - Categorizes participants into racial groups such as Asian, Caucasian, Black, and Bi-racial.\n",
    "\n",
    "### Description of the Grading Scale for Crow's Feet Severity\n",
    "\n",
    "The severity of crow's feet was quantified using a numerical scale at each timepoint. This scale includes:\n",
    "\n",
    "**0 (No Wrinkles):** No visible signs of crow's feet, indicating no wrinkle development.\n",
    "\n",
    "**1-3 (Mild Wrinkles):** Slight evidence of wrinkle formation that may be more apparent when smiling or engaging the muscles around the eyes.\n",
    "\n",
    "**4-7 (Moderate Wrinkles):** Clearly visible wrinkles that are apparent even without facial muscle engagement.\n",
    "\n",
    "**8-9 (Severe Wrinkles):** Deep and extensive wrinkle formation, indicating significant aging or damage to the skin around the eyes.\n",
    "\n",
    "### Procedure for Measuring Crow's Feet at Each Timepoint\n",
    "\n",
    "Participants' crow's feet were evaluated at baseline (Day 0), at the midpoint (Day 14), and at the end of the observation period (Day 28). The procedure for these assessments likely involved:\n",
    "\n",
    "**Initial Baseline Measurement (Day 0):** Participants’ crow's feet were assessed and recorded to establish a baseline for comparison against future measurements. This initial assessment was crucial for observing the natural state of the crow's feet without any treatment effects.\n",
    "\n",
    "**Midpoint Assessment (Day 14):** A follow-up assessment was conducted two weeks into the study to observe any early signs of change in the severity of the crow's feet. This would help in understanding the initial response to the treatment or intervention being assessed.\n",
    "\n",
    "**Final Assessment (Day 28):** The last assessment was performed after 28 days to determine the final state of the crow's feet after the treatment period. This measurement was critical for assessing the efficacy of the intervention over a short-term period."
   ]
  },
  {
   "cell_type": "markdown",
   "metadata": {},
   "source": [
    "# Import necessary libraries"
   ]
  },
  {
   "cell_type": "code",
   "execution_count": 49,
   "metadata": {},
   "outputs": [],
   "source": [
    "from openpyxl import load_workbook\n",
    "import pandas as pd\n",
    "import numpy as np\n",
    "import matplotlib.pyplot as plt\n",
    "import seaborn as sns\n",
    "from scipy.stats import wilcoxon\n",
    "import matplotlib.pyplot as plt"
   ]
  },
  {
   "cell_type": "markdown",
   "metadata": {},
   "source": [
    "## Loading data and initial data exploration"
   ]
  },
  {
   "cell_type": "code",
   "execution_count": 5,
   "metadata": {},
   "outputs": [
    {
     "name": "stdout",
     "output_type": "stream",
     "text": [
      "Number of sheets: 2\n",
      "['Crows feet wrinkles', 'Demographics']\n"
     ]
    }
   ],
   "source": [
    "file_path = 'PCR Test for Stats.xlsx'\n",
    "\n",
    "# Load the workbook\n",
    "wb = load_workbook(filename=file_path)\n",
    "\n",
    "# Get all the sheet names\n",
    "sheets = wb.sheetnames\n",
    "\n",
    "# Print the number of sheets and sheet names\n",
    "print(f\"Number of sheets: {len(sheets)}\")\n",
    "print(sheets)"
   ]
  },
  {
   "cell_type": "markdown",
   "metadata": {},
   "source": [
    "We can see that there are 2 sheets in the file. We will load the data from both sheets and explore the data to understand its structure and contents."
   ]
  },
  {
   "cell_type": "code",
   "execution_count": 6,
   "metadata": {},
   "outputs": [],
   "source": [
    "# Loading crows feet wrinkles data from sheet1\n",
    "wrinkles_data = pd.read_excel(file_path, sheet_name='Crows feet wrinkles', skiprows=1, usecols=\"B:E\")\n",
    "\n",
    "# Loading demographics data from sheet2\n",
    "demographics_data = pd.read_excel(file_path, sheet_name='Demographics')"
   ]
  },
  {
   "cell_type": "code",
   "execution_count": 7,
   "metadata": {},
   "outputs": [
    {
     "data": {
      "text/html": [
       "<div>\n",
       "<style scoped>\n",
       "    .dataframe tbody tr th:only-of-type {\n",
       "        vertical-align: middle;\n",
       "    }\n",
       "\n",
       "    .dataframe tbody tr th {\n",
       "        vertical-align: top;\n",
       "    }\n",
       "\n",
       "    .dataframe thead th {\n",
       "        text-align: right;\n",
       "    }\n",
       "</style>\n",
       "<table border=\"1\" class=\"dataframe\">\n",
       "  <thead>\n",
       "    <tr style=\"text-align: right;\">\n",
       "      <th></th>\n",
       "      <th>Subject Number</th>\n",
       "      <th>Day 0</th>\n",
       "      <th>Day 14</th>\n",
       "      <th>Day 28</th>\n",
       "    </tr>\n",
       "  </thead>\n",
       "  <tbody>\n",
       "    <tr>\n",
       "      <th>0</th>\n",
       "      <td>1</td>\n",
       "      <td>7</td>\n",
       "      <td>5</td>\n",
       "      <td>5</td>\n",
       "    </tr>\n",
       "    <tr>\n",
       "      <th>1</th>\n",
       "      <td>2</td>\n",
       "      <td>6</td>\n",
       "      <td>6</td>\n",
       "      <td>5</td>\n",
       "    </tr>\n",
       "    <tr>\n",
       "      <th>2</th>\n",
       "      <td>3</td>\n",
       "      <td>6</td>\n",
       "      <td>6</td>\n",
       "      <td>5</td>\n",
       "    </tr>\n",
       "    <tr>\n",
       "      <th>3</th>\n",
       "      <td>4</td>\n",
       "      <td>7</td>\n",
       "      <td>5</td>\n",
       "      <td>5</td>\n",
       "    </tr>\n",
       "    <tr>\n",
       "      <th>4</th>\n",
       "      <td>5</td>\n",
       "      <td>7</td>\n",
       "      <td>6</td>\n",
       "      <td>6</td>\n",
       "    </tr>\n",
       "  </tbody>\n",
       "</table>\n",
       "</div>"
      ],
      "text/plain": [
       "   Subject Number  Day 0  Day 14  Day 28\n",
       "0               1      7       5       5\n",
       "1               2      6       6       5\n",
       "2               3      6       6       5\n",
       "3               4      7       5       5\n",
       "4               5      7       6       6"
      ]
     },
     "execution_count": 7,
     "metadata": {},
     "output_type": "execute_result"
    }
   ],
   "source": [
    "wrinkles_data.head()"
   ]
  },
  {
   "cell_type": "code",
   "execution_count": 8,
   "metadata": {},
   "outputs": [
    {
     "data": {
      "text/html": [
       "<div>\n",
       "<style scoped>\n",
       "    .dataframe tbody tr th:only-of-type {\n",
       "        vertical-align: middle;\n",
       "    }\n",
       "\n",
       "    .dataframe tbody tr th {\n",
       "        vertical-align: top;\n",
       "    }\n",
       "\n",
       "    .dataframe thead th {\n",
       "        text-align: right;\n",
       "    }\n",
       "</style>\n",
       "<table border=\"1\" class=\"dataframe\">\n",
       "  <thead>\n",
       "    <tr style=\"text-align: right;\">\n",
       "      <th></th>\n",
       "      <th>Subject Number</th>\n",
       "      <th>Sex</th>\n",
       "      <th>Race</th>\n",
       "    </tr>\n",
       "  </thead>\n",
       "  <tbody>\n",
       "    <tr>\n",
       "      <th>0</th>\n",
       "      <td>1</td>\n",
       "      <td>Male</td>\n",
       "      <td>Asian</td>\n",
       "    </tr>\n",
       "    <tr>\n",
       "      <th>1</th>\n",
       "      <td>2</td>\n",
       "      <td>Male</td>\n",
       "      <td>Caucasian</td>\n",
       "    </tr>\n",
       "    <tr>\n",
       "      <th>2</th>\n",
       "      <td>3</td>\n",
       "      <td>Male</td>\n",
       "      <td>Caucasian</td>\n",
       "    </tr>\n",
       "    <tr>\n",
       "      <th>3</th>\n",
       "      <td>4</td>\n",
       "      <td>Female</td>\n",
       "      <td>Caucasian</td>\n",
       "    </tr>\n",
       "    <tr>\n",
       "      <th>4</th>\n",
       "      <td>5</td>\n",
       "      <td>Female</td>\n",
       "      <td>Asian</td>\n",
       "    </tr>\n",
       "  </tbody>\n",
       "</table>\n",
       "</div>"
      ],
      "text/plain": [
       "   Subject Number     Sex       Race\n",
       "0               1    Male      Asian\n",
       "1               2    Male  Caucasian\n",
       "2               3    Male  Caucasian\n",
       "3               4  Female  Caucasian\n",
       "4               5  Female      Asian"
      ]
     },
     "execution_count": 8,
     "metadata": {},
     "output_type": "execute_result"
    }
   ],
   "source": [
    "demographics_data.head()"
   ]
  },
  {
   "cell_type": "code",
   "execution_count": 9,
   "metadata": {},
   "outputs": [
    {
     "name": "stdout",
     "output_type": "stream",
     "text": [
      "<class 'pandas.core.frame.DataFrame'>\n",
      "RangeIndex: 32 entries, 0 to 31\n",
      "Data columns (total 4 columns):\n",
      " #   Column          Non-Null Count  Dtype\n",
      "---  ------          --------------  -----\n",
      " 0   Subject Number  32 non-null     int64\n",
      " 1   Day 0           32 non-null     int64\n",
      " 2   Day 14          32 non-null     int64\n",
      " 3   Day 28          32 non-null     int64\n",
      "dtypes: int64(4)\n",
      "memory usage: 1.1 KB\n"
     ]
    }
   ],
   "source": [
    "wrinkles_data.info()"
   ]
  },
  {
   "cell_type": "markdown",
   "metadata": {},
   "source": [
    "Wrinkles data comprises of 32 rows and 4 columns. The columns are: `Subject Number`, `Day 0`, `Day 14`, and `Day 28`. \n",
    "\n",
    "The `Subject Number` column contains unique identifiers for each participant, while the `Day 0`, `Day 14`, and `Day 28` columns contain crow's feet measurements at respective timepoints."
   ]
  },
  {
   "cell_type": "code",
   "execution_count": 10,
   "metadata": {},
   "outputs": [
    {
     "name": "stdout",
     "output_type": "stream",
     "text": [
      "<class 'pandas.core.frame.DataFrame'>\n",
      "RangeIndex: 32 entries, 0 to 31\n",
      "Data columns (total 3 columns):\n",
      " #   Column          Non-Null Count  Dtype \n",
      "---  ------          --------------  ----- \n",
      " 0   Subject Number  32 non-null     int64 \n",
      " 1   Sex             32 non-null     object\n",
      " 2   Race            32 non-null     object\n",
      "dtypes: int64(1), object(2)\n",
      "memory usage: 900.0+ bytes\n"
     ]
    }
   ],
   "source": [
    "demographics_data.info()"
   ]
  },
  {
   "cell_type": "markdown",
   "metadata": {},
   "source": [
    "Demographic data comprises of 32 rows and 3 columns. The columns are: `Subject Number`, `Sex`, and `Race`."
   ]
  },
  {
   "cell_type": "markdown",
   "metadata": {},
   "source": [
    "## Statistical Analysis\n",
    "### Descriptive Statistics"
   ]
  },
  {
   "cell_type": "code",
   "execution_count": 11,
   "metadata": {},
   "outputs": [
    {
     "data": {
      "text/html": [
       "<div>\n",
       "<style scoped>\n",
       "    .dataframe tbody tr th:only-of-type {\n",
       "        vertical-align: middle;\n",
       "    }\n",
       "\n",
       "    .dataframe tbody tr th {\n",
       "        vertical-align: top;\n",
       "    }\n",
       "\n",
       "    .dataframe thead th {\n",
       "        text-align: right;\n",
       "    }\n",
       "</style>\n",
       "<table border=\"1\" class=\"dataframe\">\n",
       "  <thead>\n",
       "    <tr style=\"text-align: right;\">\n",
       "      <th></th>\n",
       "      <th>Subject Number</th>\n",
       "      <th>Day 0</th>\n",
       "      <th>Day 14</th>\n",
       "      <th>Day 28</th>\n",
       "    </tr>\n",
       "  </thead>\n",
       "  <tbody>\n",
       "    <tr>\n",
       "      <th>count</th>\n",
       "      <td>32.000000</td>\n",
       "      <td>32.000000</td>\n",
       "      <td>32.000000</td>\n",
       "      <td>32.000000</td>\n",
       "    </tr>\n",
       "    <tr>\n",
       "      <th>mean</th>\n",
       "      <td>16.500000</td>\n",
       "      <td>6.031250</td>\n",
       "      <td>5.625000</td>\n",
       "      <td>5.000000</td>\n",
       "    </tr>\n",
       "    <tr>\n",
       "      <th>std</th>\n",
       "      <td>9.380832</td>\n",
       "      <td>0.822442</td>\n",
       "      <td>0.609071</td>\n",
       "      <td>0.672022</td>\n",
       "    </tr>\n",
       "    <tr>\n",
       "      <th>min</th>\n",
       "      <td>1.000000</td>\n",
       "      <td>5.000000</td>\n",
       "      <td>5.000000</td>\n",
       "      <td>4.000000</td>\n",
       "    </tr>\n",
       "    <tr>\n",
       "      <th>25%</th>\n",
       "      <td>8.750000</td>\n",
       "      <td>5.000000</td>\n",
       "      <td>5.000000</td>\n",
       "      <td>5.000000</td>\n",
       "    </tr>\n",
       "    <tr>\n",
       "      <th>50%</th>\n",
       "      <td>16.500000</td>\n",
       "      <td>6.000000</td>\n",
       "      <td>6.000000</td>\n",
       "      <td>5.000000</td>\n",
       "    </tr>\n",
       "    <tr>\n",
       "      <th>75%</th>\n",
       "      <td>24.250000</td>\n",
       "      <td>7.000000</td>\n",
       "      <td>6.000000</td>\n",
       "      <td>5.000000</td>\n",
       "    </tr>\n",
       "    <tr>\n",
       "      <th>max</th>\n",
       "      <td>32.000000</td>\n",
       "      <td>8.000000</td>\n",
       "      <td>7.000000</td>\n",
       "      <td>6.000000</td>\n",
       "    </tr>\n",
       "  </tbody>\n",
       "</table>\n",
       "</div>"
      ],
      "text/plain": [
       "       Subject Number      Day 0     Day 14     Day 28\n",
       "count       32.000000  32.000000  32.000000  32.000000\n",
       "mean        16.500000   6.031250   5.625000   5.000000\n",
       "std          9.380832   0.822442   0.609071   0.672022\n",
       "min          1.000000   5.000000   5.000000   4.000000\n",
       "25%          8.750000   5.000000   5.000000   5.000000\n",
       "50%         16.500000   6.000000   6.000000   5.000000\n",
       "75%         24.250000   7.000000   6.000000   5.000000\n",
       "max         32.000000   8.000000   7.000000   6.000000"
      ]
     },
     "execution_count": 11,
     "metadata": {},
     "output_type": "execute_result"
    }
   ],
   "source": [
    "wrinkles_data.describe()"
   ]
  },
  {
   "cell_type": "markdown",
   "metadata": {},
   "source": [
    "- There are no missing values in the wrinkles dataset\n",
    "- Data was collected from 32 subjects\n",
    "- The mean value of the variable decreases progressively over the study period, from 6.03125 at Day 0 to 5.625 at Day 14, and down to 5.0 by Day 28. This indicates a gradual decline in the variable being measured.\n",
    "- The standard deviation decreases from Day 0 to Day 14, suggesting that the data points are becoming more tightly clustered around the mean. However, the slight increase in standard deviation from Day 14 to Day 28 indicates a slight increase in variability among the measurements at the final time point.\n",
    "- Both minimum values and maximum values decrease over time as well, indicating a general trend of decreasing crow's feet severity across the study period.\n",
    "- Q1 stayed the same over the study period, indicating that the bottom quarter of subjects maintain. While Q1 and Q3 decreased, this indicates that the middle and the higher quartiles of the data is shifting towards lower values over time.\n"
   ]
  },
  {
   "cell_type": "code",
   "execution_count": 12,
   "metadata": {},
   "outputs": [
    {
     "data": {
      "text/html": [
       "<div>\n",
       "<style scoped>\n",
       "    .dataframe tbody tr th:only-of-type {\n",
       "        vertical-align: middle;\n",
       "    }\n",
       "\n",
       "    .dataframe tbody tr th {\n",
       "        vertical-align: top;\n",
       "    }\n",
       "\n",
       "    .dataframe thead th {\n",
       "        text-align: right;\n",
       "    }\n",
       "</style>\n",
       "<table border=\"1\" class=\"dataframe\">\n",
       "  <thead>\n",
       "    <tr style=\"text-align: right;\">\n",
       "      <th></th>\n",
       "      <th>Subject Number</th>\n",
       "    </tr>\n",
       "  </thead>\n",
       "  <tbody>\n",
       "    <tr>\n",
       "      <th>count</th>\n",
       "      <td>32.000000</td>\n",
       "    </tr>\n",
       "    <tr>\n",
       "      <th>mean</th>\n",
       "      <td>16.500000</td>\n",
       "    </tr>\n",
       "    <tr>\n",
       "      <th>std</th>\n",
       "      <td>9.380832</td>\n",
       "    </tr>\n",
       "    <tr>\n",
       "      <th>min</th>\n",
       "      <td>1.000000</td>\n",
       "    </tr>\n",
       "    <tr>\n",
       "      <th>25%</th>\n",
       "      <td>8.750000</td>\n",
       "    </tr>\n",
       "    <tr>\n",
       "      <th>50%</th>\n",
       "      <td>16.500000</td>\n",
       "    </tr>\n",
       "    <tr>\n",
       "      <th>75%</th>\n",
       "      <td>24.250000</td>\n",
       "    </tr>\n",
       "    <tr>\n",
       "      <th>max</th>\n",
       "      <td>32.000000</td>\n",
       "    </tr>\n",
       "  </tbody>\n",
       "</table>\n",
       "</div>"
      ],
      "text/plain": [
       "       Subject Number\n",
       "count       32.000000\n",
       "mean        16.500000\n",
       "std          9.380832\n",
       "min          1.000000\n",
       "25%          8.750000\n",
       "50%         16.500000\n",
       "75%         24.250000\n",
       "max         32.000000"
      ]
     },
     "execution_count": 12,
     "metadata": {},
     "output_type": "execute_result"
    }
   ],
   "source": [
    "demographics_data.describe()"
   ]
  },
  {
   "cell_type": "markdown",
   "metadata": {},
   "source": [
    "This does not provide any information about the distribution of the data\n"
   ]
  },
  {
   "cell_type": "markdown",
   "metadata": {},
   "source": [
    "## Sex Distribution"
   ]
  },
  {
   "cell_type": "code",
   "execution_count": 19,
   "metadata": {},
   "outputs": [
    {
     "data": {
      "text/plain": [
       "Sex\n",
       "Male      17\n",
       "Female    15\n",
       "Name: count, dtype: int64"
      ]
     },
     "execution_count": 19,
     "metadata": {},
     "output_type": "execute_result"
    }
   ],
   "source": [
    "sex_distribution = demographics_data['Sex'].value_counts()\n",
    "sex_distribution"
   ]
  },
  {
   "cell_type": "code",
   "execution_count": 20,
   "metadata": {},
   "outputs": [
    {
     "data": {
      "text/plain": [
       "Sex\n",
       "Male      53.125\n",
       "Female    46.875\n",
       "Name: proportion, dtype: float64"
      ]
     },
     "execution_count": 20,
     "metadata": {},
     "output_type": "execute_result"
    }
   ],
   "source": [
    "sex_percentage = demographics_data['Sex'].value_counts(normalize=True)*100\n",
    "sex_percentage"
   ]
  },
  {
   "cell_type": "markdown",
   "metadata": {},
   "source": [
    "### Sex Breakdown\n",
    "**Males:** There are 17 males in your sample, making up 53.125% of the total population.\n",
    "\n",
    "**Females:** There are 15 females, constituting 46.875% of the sample."
   ]
  },
  {
   "cell_type": "markdown",
   "metadata": {},
   "source": [
    "# Race Distribution"
   ]
  },
  {
   "cell_type": "code",
   "execution_count": 21,
   "metadata": {},
   "outputs": [
    {
     "data": {
      "text/plain": [
       "Race\n",
       "Asian        12\n",
       "Caucasian    12\n",
       "Black         4\n",
       "Bi-racial     4\n",
       "Name: count, dtype: int64"
      ]
     },
     "execution_count": 21,
     "metadata": {},
     "output_type": "execute_result"
    }
   ],
   "source": [
    "race_distribution = demographics_data['Race'].value_counts()\n",
    "race_distribution"
   ]
  },
  {
   "cell_type": "code",
   "execution_count": 22,
   "metadata": {},
   "outputs": [
    {
     "data": {
      "text/plain": [
       "Race\n",
       "Asian        37.5\n",
       "Caucasian    37.5\n",
       "Black        12.5\n",
       "Bi-racial    12.5\n",
       "Name: proportion, dtype: float64"
      ]
     },
     "execution_count": 22,
     "metadata": {},
     "output_type": "execute_result"
    }
   ],
   "source": [
    "race_percentage = demographics_data['Race'].value_counts(normalize=True) * 100\n",
    "race_percentage"
   ]
  },
  {
   "cell_type": "markdown",
   "metadata": {},
   "source": [
    "# Race Breakdown:\n",
    "\n",
    "**Asian:** There are 12 individuals identified as Asian, making up 37.5% of the total population.\n",
    "\n",
    "**Caucasian:** Similarly, 12 individuals are identified as Caucasian, also representing 37.5% of the sample.\n",
    "\n",
    "**Black:** 4 individuals are identified as Black, constituting 12.5% of the population.\n",
    "\n",
    "**Bi-racial:** There are also 4 individuals identified as Bi-racial, which makes up another 12.5% of the sample."
   ]
  },
  {
   "cell_type": "markdown",
   "metadata": {},
   "source": [
    "## Merging datasets"
   ]
  },
  {
   "cell_type": "code",
   "execution_count": 24,
   "metadata": {},
   "outputs": [],
   "source": [
    "\n",
    "# Combining both datasets on 'Subject Number'\n",
    "crows_feet_data = pd.merge(wrinkles_data, demographics_data, on='Subject Number')\n"
   ]
  },
  {
   "cell_type": "code",
   "execution_count": 25,
   "metadata": {},
   "outputs": [
    {
     "data": {
      "text/html": [
       "<div>\n",
       "<style scoped>\n",
       "    .dataframe tbody tr th:only-of-type {\n",
       "        vertical-align: middle;\n",
       "    }\n",
       "\n",
       "    .dataframe tbody tr th {\n",
       "        vertical-align: top;\n",
       "    }\n",
       "\n",
       "    .dataframe thead th {\n",
       "        text-align: right;\n",
       "    }\n",
       "</style>\n",
       "<table border=\"1\" class=\"dataframe\">\n",
       "  <thead>\n",
       "    <tr style=\"text-align: right;\">\n",
       "      <th></th>\n",
       "      <th>Subject Number</th>\n",
       "      <th>Day 0</th>\n",
       "      <th>Day 14</th>\n",
       "      <th>Day 28</th>\n",
       "      <th>Sex</th>\n",
       "      <th>Race</th>\n",
       "    </tr>\n",
       "  </thead>\n",
       "  <tbody>\n",
       "    <tr>\n",
       "      <th>0</th>\n",
       "      <td>1</td>\n",
       "      <td>7</td>\n",
       "      <td>5</td>\n",
       "      <td>5</td>\n",
       "      <td>Male</td>\n",
       "      <td>Asian</td>\n",
       "    </tr>\n",
       "    <tr>\n",
       "      <th>1</th>\n",
       "      <td>2</td>\n",
       "      <td>6</td>\n",
       "      <td>6</td>\n",
       "      <td>5</td>\n",
       "      <td>Male</td>\n",
       "      <td>Caucasian</td>\n",
       "    </tr>\n",
       "    <tr>\n",
       "      <th>2</th>\n",
       "      <td>3</td>\n",
       "      <td>6</td>\n",
       "      <td>6</td>\n",
       "      <td>5</td>\n",
       "      <td>Male</td>\n",
       "      <td>Caucasian</td>\n",
       "    </tr>\n",
       "    <tr>\n",
       "      <th>3</th>\n",
       "      <td>4</td>\n",
       "      <td>7</td>\n",
       "      <td>5</td>\n",
       "      <td>5</td>\n",
       "      <td>Female</td>\n",
       "      <td>Caucasian</td>\n",
       "    </tr>\n",
       "    <tr>\n",
       "      <th>4</th>\n",
       "      <td>5</td>\n",
       "      <td>7</td>\n",
       "      <td>6</td>\n",
       "      <td>6</td>\n",
       "      <td>Female</td>\n",
       "      <td>Asian</td>\n",
       "    </tr>\n",
       "  </tbody>\n",
       "</table>\n",
       "</div>"
      ],
      "text/plain": [
       "   Subject Number  Day 0  Day 14  Day 28     Sex       Race\n",
       "0               1      7       5       5    Male      Asian\n",
       "1               2      6       6       5    Male  Caucasian\n",
       "2               3      6       6       5    Male  Caucasian\n",
       "3               4      7       5       5  Female  Caucasian\n",
       "4               5      7       6       6  Female      Asian"
      ]
     },
     "execution_count": 25,
     "metadata": {},
     "output_type": "execute_result"
    }
   ],
   "source": [
    "crows_feet_data.head()"
   ]
  },
  {
   "cell_type": "markdown",
   "metadata": {},
   "source": [
    "### Number of cases per timepoint"
   ]
  },
  {
   "cell_type": "code",
   "execution_count": 27,
   "metadata": {},
   "outputs": [
    {
     "data": {
      "text/plain": [
       "Day 0     32\n",
       "Day 14    32\n",
       "Day 28    32\n",
       "dtype: int64"
      ]
     },
     "execution_count": 27,
     "metadata": {},
     "output_type": "execute_result"
    }
   ],
   "source": [
    "cases_per_timepoint = crows_feet_data[['Day 0', 'Day 14', 'Day 28']].apply(lambda x: x.notnull().sum())\n",
    "cases_per_timepoint"
   ]
  },
  {
   "cell_type": "markdown",
   "metadata": {},
   "source": [
    "### Means and Standard Deviations for each timepoint"
   ]
  },
  {
   "cell_type": "code",
   "execution_count": 28,
   "metadata": {},
   "outputs": [],
   "source": [
    "means = crows_feet_data[['Day 0', 'Day 14', 'Day 28']].mean()\n",
    "std_devs = crows_feet_data[['Day 0', 'Day 14', 'Day 28']].std()"
   ]
  },
  {
   "cell_type": "code",
   "execution_count": 29,
   "metadata": {},
   "outputs": [
    {
     "data": {
      "text/plain": [
       "Day 0     6.03125\n",
       "Day 14    5.62500\n",
       "Day 28    5.00000\n",
       "dtype: float64"
      ]
     },
     "execution_count": 29,
     "metadata": {},
     "output_type": "execute_result"
    }
   ],
   "source": [
    "means"
   ]
  },
  {
   "cell_type": "code",
   "execution_count": 30,
   "metadata": {},
   "outputs": [
    {
     "data": {
      "text/plain": [
       "Day 0     0.822442\n",
       "Day 14    0.609071\n",
       "Day 28    0.672022\n",
       "dtype: float64"
      ]
     },
     "execution_count": 30,
     "metadata": {},
     "output_type": "execute_result"
    }
   ],
   "source": [
    "std_devs"
   ]
  },
  {
   "cell_type": "markdown",
   "metadata": {},
   "source": [
    "### Means and Standard Deviations for each timepoint grouped by race"
   ]
  },
  {
   "cell_type": "code",
   "execution_count": 33,
   "metadata": {},
   "outputs": [],
   "source": [
    "means_by_race = crows_feet_data.groupby('Race')[['Day 0', 'Day 14', 'Day 28']].mean()\n",
    "std_devs_by_race = crows_feet_data.groupby('Race')[['Day 0', 'Day 14', 'Day 28']].std()"
   ]
  },
  {
   "cell_type": "code",
   "execution_count": 34,
   "metadata": {},
   "outputs": [
    {
     "data": {
      "text/html": [
       "<div>\n",
       "<style scoped>\n",
       "    .dataframe tbody tr th:only-of-type {\n",
       "        vertical-align: middle;\n",
       "    }\n",
       "\n",
       "    .dataframe tbody tr th {\n",
       "        vertical-align: top;\n",
       "    }\n",
       "\n",
       "    .dataframe thead th {\n",
       "        text-align: right;\n",
       "    }\n",
       "</style>\n",
       "<table border=\"1\" class=\"dataframe\">\n",
       "  <thead>\n",
       "    <tr style=\"text-align: right;\">\n",
       "      <th></th>\n",
       "      <th>Day 0</th>\n",
       "      <th>Day 14</th>\n",
       "      <th>Day 28</th>\n",
       "    </tr>\n",
       "    <tr>\n",
       "      <th>Race</th>\n",
       "      <th></th>\n",
       "      <th></th>\n",
       "      <th></th>\n",
       "    </tr>\n",
       "  </thead>\n",
       "  <tbody>\n",
       "    <tr>\n",
       "      <th>Asian</th>\n",
       "      <td>6.083333</td>\n",
       "      <td>5.666667</td>\n",
       "      <td>5.250000</td>\n",
       "    </tr>\n",
       "    <tr>\n",
       "      <th>Bi-racial</th>\n",
       "      <td>6.250000</td>\n",
       "      <td>5.750000</td>\n",
       "      <td>4.500000</td>\n",
       "    </tr>\n",
       "    <tr>\n",
       "      <th>Black</th>\n",
       "      <td>6.000000</td>\n",
       "      <td>5.750000</td>\n",
       "      <td>5.000000</td>\n",
       "    </tr>\n",
       "    <tr>\n",
       "      <th>Caucasian</th>\n",
       "      <td>5.916667</td>\n",
       "      <td>5.500000</td>\n",
       "      <td>4.916667</td>\n",
       "    </tr>\n",
       "  </tbody>\n",
       "</table>\n",
       "</div>"
      ],
      "text/plain": [
       "              Day 0    Day 14    Day 28\n",
       "Race                                   \n",
       "Asian      6.083333  5.666667  5.250000\n",
       "Bi-racial  6.250000  5.750000  4.500000\n",
       "Black      6.000000  5.750000  5.000000\n",
       "Caucasian  5.916667  5.500000  4.916667"
      ]
     },
     "execution_count": 34,
     "metadata": {},
     "output_type": "execute_result"
    }
   ],
   "source": [
    "means_by_race"
   ]
  },
  {
   "cell_type": "code",
   "execution_count": 35,
   "metadata": {},
   "outputs": [
    {
     "data": {
      "text/html": [
       "<div>\n",
       "<style scoped>\n",
       "    .dataframe tbody tr th:only-of-type {\n",
       "        vertical-align: middle;\n",
       "    }\n",
       "\n",
       "    .dataframe tbody tr th {\n",
       "        vertical-align: top;\n",
       "    }\n",
       "\n",
       "    .dataframe thead th {\n",
       "        text-align: right;\n",
       "    }\n",
       "</style>\n",
       "<table border=\"1\" class=\"dataframe\">\n",
       "  <thead>\n",
       "    <tr style=\"text-align: right;\">\n",
       "      <th></th>\n",
       "      <th>Day 0</th>\n",
       "      <th>Day 14</th>\n",
       "      <th>Day 28</th>\n",
       "    </tr>\n",
       "    <tr>\n",
       "      <th>Race</th>\n",
       "      <th></th>\n",
       "      <th></th>\n",
       "      <th></th>\n",
       "    </tr>\n",
       "  </thead>\n",
       "  <tbody>\n",
       "    <tr>\n",
       "      <th>Asian</th>\n",
       "      <td>0.668558</td>\n",
       "      <td>0.651339</td>\n",
       "      <td>0.753778</td>\n",
       "    </tr>\n",
       "    <tr>\n",
       "      <th>Bi-racial</th>\n",
       "      <td>1.500000</td>\n",
       "      <td>0.957427</td>\n",
       "      <td>0.577350</td>\n",
       "    </tr>\n",
       "    <tr>\n",
       "      <th>Black</th>\n",
       "      <td>0.816497</td>\n",
       "      <td>0.500000</td>\n",
       "      <td>0.816497</td>\n",
       "    </tr>\n",
       "    <tr>\n",
       "      <th>Caucasian</th>\n",
       "      <td>0.792961</td>\n",
       "      <td>0.522233</td>\n",
       "      <td>0.514929</td>\n",
       "    </tr>\n",
       "  </tbody>\n",
       "</table>\n",
       "</div>"
      ],
      "text/plain": [
       "              Day 0    Day 14    Day 28\n",
       "Race                                   \n",
       "Asian      0.668558  0.651339  0.753778\n",
       "Bi-racial  1.500000  0.957427  0.577350\n",
       "Black      0.816497  0.500000  0.816497\n",
       "Caucasian  0.792961  0.522233  0.514929"
      ]
     },
     "execution_count": 35,
     "metadata": {},
     "output_type": "execute_result"
    }
   ],
   "source": [
    "std_devs_by_race"
   ]
  },
  {
   "cell_type": "markdown",
   "metadata": {},
   "source": [
    "### Means and Standard Deviations for each timepoint grouped by Sex"
   ]
  },
  {
   "cell_type": "code",
   "execution_count": 36,
   "metadata": {},
   "outputs": [],
   "source": [
    "means_by_sex = crows_feet_data.groupby('Sex')[['Day 0', 'Day 14', 'Day 28']].mean()\n",
    "std_devs_by_sex = crows_feet_data.groupby('Sex')[['Day 0', 'Day 14', 'Day 28']].std()"
   ]
  },
  {
   "cell_type": "code",
   "execution_count": 37,
   "metadata": {},
   "outputs": [
    {
     "data": {
      "text/html": [
       "<div>\n",
       "<style scoped>\n",
       "    .dataframe tbody tr th:only-of-type {\n",
       "        vertical-align: middle;\n",
       "    }\n",
       "\n",
       "    .dataframe tbody tr th {\n",
       "        vertical-align: top;\n",
       "    }\n",
       "\n",
       "    .dataframe thead th {\n",
       "        text-align: right;\n",
       "    }\n",
       "</style>\n",
       "<table border=\"1\" class=\"dataframe\">\n",
       "  <thead>\n",
       "    <tr style=\"text-align: right;\">\n",
       "      <th></th>\n",
       "      <th>Day 0</th>\n",
       "      <th>Day 14</th>\n",
       "      <th>Day 28</th>\n",
       "    </tr>\n",
       "    <tr>\n",
       "      <th>Sex</th>\n",
       "      <th></th>\n",
       "      <th></th>\n",
       "      <th></th>\n",
       "    </tr>\n",
       "  </thead>\n",
       "  <tbody>\n",
       "    <tr>\n",
       "      <th>Female</th>\n",
       "      <td>6.066667</td>\n",
       "      <td>5.600000</td>\n",
       "      <td>4.800000</td>\n",
       "    </tr>\n",
       "    <tr>\n",
       "      <th>Male</th>\n",
       "      <td>6.000000</td>\n",
       "      <td>5.647059</td>\n",
       "      <td>5.176471</td>\n",
       "    </tr>\n",
       "  </tbody>\n",
       "</table>\n",
       "</div>"
      ],
      "text/plain": [
       "           Day 0    Day 14    Day 28\n",
       "Sex                                 \n",
       "Female  6.066667  5.600000  4.800000\n",
       "Male    6.000000  5.647059  5.176471"
      ]
     },
     "execution_count": 37,
     "metadata": {},
     "output_type": "execute_result"
    }
   ],
   "source": [
    "means_by_sex"
   ]
  },
  {
   "cell_type": "code",
   "execution_count": 38,
   "metadata": {},
   "outputs": [
    {
     "data": {
      "text/html": [
       "<div>\n",
       "<style scoped>\n",
       "    .dataframe tbody tr th:only-of-type {\n",
       "        vertical-align: middle;\n",
       "    }\n",
       "\n",
       "    .dataframe tbody tr th {\n",
       "        vertical-align: top;\n",
       "    }\n",
       "\n",
       "    .dataframe thead th {\n",
       "        text-align: right;\n",
       "    }\n",
       "</style>\n",
       "<table border=\"1\" class=\"dataframe\">\n",
       "  <thead>\n",
       "    <tr style=\"text-align: right;\">\n",
       "      <th></th>\n",
       "      <th>Day 0</th>\n",
       "      <th>Day 14</th>\n",
       "      <th>Day 28</th>\n",
       "    </tr>\n",
       "    <tr>\n",
       "      <th>Sex</th>\n",
       "      <th></th>\n",
       "      <th></th>\n",
       "      <th></th>\n",
       "    </tr>\n",
       "  </thead>\n",
       "  <tbody>\n",
       "    <tr>\n",
       "      <th>Female</th>\n",
       "      <td>1.032796</td>\n",
       "      <td>0.736788</td>\n",
       "      <td>0.774597</td>\n",
       "    </tr>\n",
       "    <tr>\n",
       "      <th>Male</th>\n",
       "      <td>0.612372</td>\n",
       "      <td>0.492592</td>\n",
       "      <td>0.528594</td>\n",
       "    </tr>\n",
       "  </tbody>\n",
       "</table>\n",
       "</div>"
      ],
      "text/plain": [
       "           Day 0    Day 14    Day 28\n",
       "Sex                                 \n",
       "Female  1.032796  0.736788  0.774597\n",
       "Male    0.612372  0.492592  0.528594"
      ]
     },
     "execution_count": 38,
     "metadata": {},
     "output_type": "execute_result"
    }
   ],
   "source": [
    "std_devs_by_sex"
   ]
  },
  {
   "cell_type": "markdown",
   "metadata": {},
   "source": [
    "## Change over time analysis"
   ]
  },
  {
   "cell_type": "code",
   "execution_count": 48,
   "metadata": {},
   "outputs": [],
   "source": [
    "# Absolute changes from Day 0 to Day 14 and Day 0 to Day 28\n",
    "crows_feet_data['Change_0_to_14'] = crows_feet_data['Day 14'] - crows_feet_data['Day 0']\n",
    "crows_feet_data['Change_0_to_28'] = crows_feet_data['Day 28'] - crows_feet_data['Day 0']"
   ]
  },
  {
   "cell_type": "markdown",
   "metadata": {},
   "source": [
    "## Percentage Change Analysis\n",
    "Percentage change in crow's feet values from Day 0 to Day 14, and from Day 0 to Day 28."
   ]
  },
  {
   "cell_type": "code",
   "execution_count": 47,
   "metadata": {},
   "outputs": [],
   "source": [
    "crows_feet_data['percentage_change_14'] = ((crows_feet_data['Day 14'] - crows_feet_data['Day 0']) / crows_feet_data['Day 0']) * 100\n",
    "crows_feet_data['percentage_change_28'] = ((crows_feet_data['Day 28'] - crows_feet_data['Day 0']) / crows_feet_data['Day 0']) * 100"
   ]
  },
  {
   "cell_type": "markdown",
   "metadata": {},
   "source": [
    "\n",
    "## Wilcoxon signed-rank test\n",
    "\n",
    "Wilcoxon signed-rank test is a non-parametric test used when the data cannot be assumed to be normally distributed, making it suitable for a wide range of data types, including ordinal data or non-normally distributed interval data.\n",
    "\n",
    "It is used on paired samples to statistically evaluate the differences between two related groups. The test will be conducted to compare the crow's feet scores at different timepoints (Day 0 vs. Day 14, and Day 0 vs. Day 28) to determine if there is a significant difference in the crow's feet over the study period.\n",
    "\n",
    "The purpose of performing these tests is to evaluate whether there is a significant reduction (or otherwise change) in the severity of crow's feet over the 14 and 28 days of the study, compared to the baseline measurements. A significant p-value (commonly < 0.05) would suggest that the treatment or intervention being studied has a statistically significant effect on reducing the severity of crow's feet, rejecting the null hypothesis of no median difference."
   ]
  },
  {
   "cell_type": "code",
   "execution_count": 52,
   "metadata": {},
   "outputs": [],
   "source": [
    "\n",
    "# Perform Wilcoxon signed-rank test versus Day 0 for Day 14 and Day 28\n",
    "wilcoxon_results_day_14 = wilcoxon(crows_feet_data['Day 0'], crows_feet_data['Day 14'])\n",
    "wilcoxon_results_day_28 = wilcoxon(crows_feet_data['Day 0'], crows_feet_data['Day 28'])\n"
   ]
  },
  {
   "cell_type": "code",
   "execution_count": 54,
   "metadata": {},
   "outputs": [
    {
     "name": "stdout",
     "output_type": "stream",
     "text": [
      "Wilcoxon Signed-Rank Test Results for Day 0 vs Day 14:\n",
      "WilcoxonResult(statistic=0.0, pvalue=0.0035104707374242826)\n",
      "\n",
      "Wilcoxon Signed-Rank Test Results for Day 0 vs Day 28:\n",
      "WilcoxonResult(statistic=0.0, pvalue=1.3624365570821252e-05)\n"
     ]
    }
   ],
   "source": [
    "print(\"Wilcoxon Signed-Rank Test Results for Day 0 vs Day 14:\")\n",
    "print(wilcoxon_results_day_14)\n",
    "\n",
    "print(\"\\nWilcoxon Signed-Rank Test Results for Day 0 vs Day 28:\")\n",
    "print(wilcoxon_results_day_28)"
   ]
  },
  {
   "cell_type": "markdown",
   "metadata": {},
   "source": [
    "## References \n",
    "- https://medium.com/crows-feet/crows-feet-a-wrinkle-is-worth-a-thousand-smiles-bb8385a9601e\n",
    "- "
   ]
  },
  {
   "cell_type": "markdown",
   "metadata": {},
   "source": []
  }
 ],
 "metadata": {
  "kernelspec": {
   "display_name": "base",
   "language": "python",
   "name": "python3"
  },
  "language_info": {
   "codemirror_mode": {
    "name": "ipython",
    "version": 3
   },
   "file_extension": ".py",
   "mimetype": "text/x-python",
   "name": "python",
   "nbconvert_exporter": "python",
   "pygments_lexer": "ipython3",
   "version": "3.11.5"
  }
 },
 "nbformat": 4,
 "nbformat_minor": 2
}
